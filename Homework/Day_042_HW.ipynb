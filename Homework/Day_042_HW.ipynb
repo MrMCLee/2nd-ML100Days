{
 "cells": [
  {
   "cell_type": "markdown",
   "metadata": {},
   "source": [
    "## [作業重點]\n",
    "目前你應該已經要很清楚資料集中，資料的型態是什麼樣子囉！包含特徵 (features) 與標籤 (labels)。因此要記得未來不管什麼專案，必須要把資料清理成相同的格式，才能送進模型訓練。\n",
    "今天的作業開始踏入決策樹這個非常重要的模型，請務必確保你理解模型中每個超參數的意思，並試著調整看看，對最終預測結果的影響為何"
   ]
  },
  {
   "cell_type": "markdown",
   "metadata": {},
   "source": [
    "## 作業\n",
    "\n",
    "1. 試著調整 DecisionTreeClassifier(...) 中的參數，並觀察是否會改變結果？\n",
    "2. 改用其他資料集 (boston, wine)，並與回歸模型的結果進行比較"
   ]
  },
  {
   "cell_type": "code",
   "execution_count": 1,
   "metadata": {},
   "outputs": [],
   "source": [
    "from sklearn import datasets, metrics\n",
    "\n",
    "# 如果是分類問題，請使用 DecisionTreeClassifier，若為回歸問題，請使用 DecisionTreeRegressor\n",
    "from sklearn.tree import DecisionTreeClassifier, DecisionTreeRegressor\n",
    "from sklearn.model_selection import train_test_split"
   ]
  },
  {
   "cell_type": "code",
   "execution_count": 13,
   "metadata": {},
   "outputs": [
    {
     "name": "stdout",
     "output_type": "stream",
     "text": [
      "(178, 13)\n",
      "Data shape = (178, 13), Target shape = (178,)\n",
      "Feature name = ['alcohol', 'malic_acid', 'ash', 'alcalinity_of_ash', 'magnesium', 'total_phenols', 'flavanoids', 'nonflavanoid_phenols', 'proanthocyanins', 'color_intensity', 'hue', 'od280/od315_of_diluted_wines', 'proline']\n"
     ]
    }
   ],
   "source": [
    "# Read wine database\n",
    "winedata = datasets.load_wine()\n",
    "\n",
    "print(winedata.data.shape)\n",
    "print(f'Data shape = {winedata.data.shape}, Target shape = {winedata.target.shape}')\n",
    "print(f'Feature name = {winedata.feature_names}')"
   ]
  },
  {
   "cell_type": "code",
   "execution_count": 14,
   "metadata": {},
   "outputs": [],
   "source": [
    "# 切分訓練集/測試集\n",
    "x_train, x_test, y_train, y_test = train_test_split(winedata.data, winedata.target, test_size=0.25, random_state=4)\n",
    "\n",
    "# 建立模型\n",
    "clf_gini = DecisionTreeClassifier()\n",
    "clf_entropy = DecisionTreeClassifier(criterion='entropy')\n",
    "\n",
    "# 訓練模型\n",
    "clf_gini.fit(x_train, y_train)\n",
    "clf_entropy.fit(x_train, y_train)\n",
    "\n",
    "# 預測測試集\n",
    "y_pred_gini = clf_gini.predict(x_test)\n",
    "y_pred_entropy = clf_entropy.predict(x_test)"
   ]
  },
  {
   "cell_type": "code",
   "execution_count": 15,
   "metadata": {},
   "outputs": [
    {
     "name": "stdout",
     "output_type": "stream",
     "text": [
      "Criterion set gini, Acuuracy is = 0.8888888888888888\n",
      "Criterion set entropy, Acuuracy is = 0.9555555555555556\n"
     ]
    }
   ],
   "source": [
    "acc1 = metrics.accuracy_score(y_test, y_pred_gini)\n",
    "acc2 = metrics.accuracy_score(y_test, y_pred_entropy)\n",
    "print(f'Criterion set gini, Acuuracy is = {acc1}')\n",
    "print(f'Criterion set entropy, Acuuracy is = {acc2}')\n"
   ]
  },
  {
   "cell_type": "code",
   "execution_count": 16,
   "metadata": {},
   "outputs": [
    {
     "name": "stdout",
     "output_type": "stream",
     "text": [
      "Feature importance:  [0.01364138 0.04922508 0.         0.         0.04405085 0.04296585\n",
      " 0.         0.         0.         0.33702516 0.         0.12444169\n",
      " 0.38865   ]\n"
     ]
    }
   ],
   "source": [
    "print(\"Feature importance: \", clf_gini.feature_importances_)"
   ]
  }
 ],
 "metadata": {
  "kernelspec": {
   "display_name": "Python 3",
   "language": "python",
   "name": "python3"
  },
  "language_info": {
   "codemirror_mode": {
    "name": "ipython",
    "version": 3
   },
   "file_extension": ".py",
   "mimetype": "text/x-python",
   "name": "python",
   "nbconvert_exporter": "python",
   "pygments_lexer": "ipython3",
   "version": "3.7.0"
  }
 },
 "nbformat": 4,
 "nbformat_minor": 2
}
