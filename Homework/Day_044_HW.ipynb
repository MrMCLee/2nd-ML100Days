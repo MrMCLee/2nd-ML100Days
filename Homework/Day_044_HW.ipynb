{
 "cells": [
  {
   "cell_type": "markdown",
   "metadata": {},
   "source": [
    "## [作業重點]\n",
    "確保你了解隨機森林模型中每個超參數的意義，並觀察調整超參數對結果的影響"
   ]
  },
  {
   "cell_type": "markdown",
   "metadata": {},
   "source": [
    "## 作業\n",
    "\n",
    "1. 試著調整 RandomForestClassifier(...) 中的參數，並觀察是否會改變結果？\n",
    "2. 改用其他資料集 (boston, wine)，並與回歸模型與決策樹的結果進行比較"
   ]
  },
  {
   "cell_type": "code",
   "execution_count": 1,
   "metadata": {},
   "outputs": [
    {
     "name": "stderr",
     "output_type": "stream",
     "text": [
      "C:\\Users\\10709151\\AppData\\Local\\Continuum\\anaconda3\\lib\\site-packages\\sklearn\\ensemble\\weight_boosting.py:29: DeprecationWarning: numpy.core.umath_tests is an internal NumPy module and should not be imported. It will be removed in a future NumPy release.\n",
      "  from numpy.core.umath_tests import inner1d\n"
     ]
    }
   ],
   "source": [
    "from sklearn import datasets, metrics\n",
    "from sklearn.ensemble import RandomForestClassifier\n",
    "from sklearn.model_selection import train_test_split"
   ]
  },
  {
   "cell_type": "code",
   "execution_count": 4,
   "metadata": {},
   "outputs": [
    {
     "name": "stdout",
     "output_type": "stream",
     "text": [
      "Data shape = (178, 13), Target shape = (178,)\n",
      "Feature name = ['alcohol', 'malic_acid', 'ash', 'alcalinity_of_ash', 'magnesium', 'total_phenols', 'flavanoids', 'nonflavanoid_phenols', 'proanthocyanins', 'color_intensity', 'hue', 'od280/od315_of_diluted_wines', 'proline']\n",
      "len = 13\n"
     ]
    }
   ],
   "source": [
    "# Read wine database\n",
    "winedata = datasets.load_wine()\n",
    "\n",
    "print(f'Data shape = {winedata.data.shape}, Target shape = {winedata.target.shape}')\n",
    "print(f'Feature name = {winedata.feature_names}\\nlen = {len(winedata.feature_names)}')"
   ]
  },
  {
   "cell_type": "code",
   "execution_count": 5,
   "metadata": {},
   "outputs": [],
   "source": [
    "# 切分訓練集/測試集\n",
    "x_train, x_test, y_train, y_test = train_test_split(winedata.data, winedata.target, test_size=0.25, random_state=4)\n",
    "\n",
    "# 建立模型\n",
    "clf_gini = RandomForestClassifier(n_estimators=20, max_depth=4)\n",
    "clf_entropy = RandomForestClassifier(criterion='entropy', n_estimators=20, max_depth=4)\n",
    "\n",
    "# 訓練模型\n",
    "clf_gini.fit(x_train, y_train)\n",
    "clf_entropy.fit(x_train, y_train)\n",
    "\n",
    "# 預測測試集\n",
    "y_pred_gini = clf_gini.predict(x_test)\n",
    "y_pred_entropy = clf_entropy.predict(x_test)"
   ]
  },
  {
   "cell_type": "code",
   "execution_count": 6,
   "metadata": {},
   "outputs": [
    {
     "name": "stdout",
     "output_type": "stream",
     "text": [
      "Criterion set gini, Acuuracy is = 0.9777777777777777\n",
      "Criterion set entropy, Acuuracy is = 0.9777777777777777\n"
     ]
    }
   ],
   "source": [
    "acc1 = metrics.accuracy_score(y_test, y_pred_gini)\n",
    "acc2 = metrics.accuracy_score(y_test, y_pred_entropy)\n",
    "print(f'Criterion set gini, Acuuracy is = {acc1}')\n",
    "print(f'Criterion set entropy, Acuuracy is = {acc2}')"
   ]
  },
  {
   "cell_type": "code",
   "execution_count": 7,
   "metadata": {},
   "outputs": [
    {
     "name": "stdout",
     "output_type": "stream",
     "text": [
      "Feature importance:  [0.10409367 0.02325542 0.01546664 0.01859379 0.0515991  0.02933646\n",
      " 0.21733929 0.0055742  0.04266467 0.15762755 0.05759576 0.1376984\n",
      " 0.13915505]\n"
     ]
    }
   ],
   "source": [
    "print(\"Feature importance: \", clf_gini.feature_importances_)"
   ]
  },
  {
   "cell_type": "markdown",
   "metadata": {},
   "source": [
    "### Chage tree numbers & depth"
   ]
  },
  {
   "cell_type": "code",
   "execution_count": 8,
   "metadata": {},
   "outputs": [],
   "source": [
    "# 建立模型\n",
    "clf_gini_55 = RandomForestClassifier(n_estimators=5, max_depth=5)\n",
    "clf_entropy_55 = RandomForestClassifier(criterion='entropy', n_estimators=5, max_depth=5)\n",
    "\n",
    "# 訓練模型\n",
    "clf_gini_55.fit(x_train, y_train)\n",
    "clf_entropy_55.fit(x_train, y_train)\n",
    "\n",
    "# 預測測試集\n",
    "y_pred_gini_55 = clf_gini_55.predict(x_test)\n",
    "y_pred_entropy_55 = clf_entropy_55.predict(x_test)"
   ]
  },
  {
   "cell_type": "code",
   "execution_count": 9,
   "metadata": {},
   "outputs": [
    {
     "name": "stdout",
     "output_type": "stream",
     "text": [
      "Criterion set gini, Tree numbers set 5, Depth set 5 , Acuuracy is = 0.9333333333333333\n",
      "Criterion set entropy, Tree numbers set 5, Depth set 5, Acuuracy is = 0.9555555555555556\n"
     ]
    }
   ],
   "source": [
    "acc3 = metrics.accuracy_score(y_test, y_pred_gini_55)\n",
    "acc4 = metrics.accuracy_score(y_test, y_pred_entropy_55)\n",
    "print(f'Criterion set gini, Tree numbers set 5, Depth set 5 , Acuuracy is = {acc3}')\n",
    "print(f'Criterion set entropy, Tree numbers set 5, Depth set 5, Acuuracy is = {acc4}')"
   ]
  }
 ],
 "metadata": {
  "kernelspec": {
   "display_name": "Python 3",
   "language": "python",
   "name": "python3"
  },
  "language_info": {
   "codemirror_mode": {
    "name": "ipython",
    "version": 3
   },
   "file_extension": ".py",
   "mimetype": "text/x-python",
   "name": "python",
   "nbconvert_exporter": "python",
   "pygments_lexer": "ipython3",
   "version": "3.7.0"
  }
 },
 "nbformat": 4,
 "nbformat_minor": 2
}
