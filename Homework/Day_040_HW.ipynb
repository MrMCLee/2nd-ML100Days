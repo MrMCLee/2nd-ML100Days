{
 "cells": [
  {
   "cell_type": "markdown",
   "metadata": {},
   "source": [
    "## [作業重點]\n",
    "使用 Sklearn 中的 Lasso, Ridge 模型，來訓練各種資料集，務必了解送進去模型訓練的**資料型態**為何，也請了解模型中各項參數的意義。\n",
    "\n",
    "機器學習的模型非常多種，但要訓練的資料多半有固定的格式，確保你了解訓練資料的格式為何，這樣在應用新模型時，就能夠最快的上手開始訓練！"
   ]
  },
  {
   "cell_type": "markdown",
   "metadata": {},
   "source": [
    "## 練習時間\n",
    "試著使用 sklearn datasets 的其他資料集 (boston, ...)，來訓練自己的線性迴歸模型，並加上適當的正則話來觀察訓練情形。"
   ]
  },
  {
   "cell_type": "code",
   "execution_count": 1,
   "metadata": {},
   "outputs": [],
   "source": [
    "import numpy as np\n",
    "import matplotlib.pyplot as plt\n",
    "from sklearn import datasets, linear_model\n",
    "from sklearn.model_selection import train_test_split\n",
    "from sklearn.metrics import mean_squared_error, r2_score"
   ]
  },
  {
   "cell_type": "markdown",
   "metadata": {},
   "source": [
    "### LASSO for wine"
   ]
  },
  {
   "cell_type": "code",
   "execution_count": 16,
   "metadata": {},
   "outputs": [
    {
     "name": "stdout",
     "output_type": "stream",
     "text": [
      "(178, 13)\n",
      "Data shape = (178, 13), Target shape = (178,)\n"
     ]
    }
   ],
   "source": [
    "# 讀取糖尿病資料集\n",
    "winedata = datasets.load_wine()\n",
    "\n",
    "print(winedata.data.shape)\n",
    "print(f'Data shape = {winedata.data.shape}, Target shape = {winedata.target.shape}')"
   ]
  },
  {
   "cell_type": "code",
   "execution_count": 34,
   "metadata": {},
   "outputs": [],
   "source": [
    "# 切分訓練集/測試集\n",
    "x_train, x_test, y_train, y_test = train_test_split(winedata.data, winedata.target, test_size=0.2, random_state=4)\n",
    "\n",
    "# 建立一個線性回歸模型\n",
    "lasso_1 = linear_model.Lasso(alpha=1.0)\n",
    "lasso_2 = linear_model.Lasso(alpha=0.5)\n",
    "\n",
    "# 將訓練資料丟進去模型訓練\n",
    "lasso_1.fit(x_train, y_train)\n",
    "lasso_2.fit(x_train, y_train)\n",
    "\n",
    "# 將測試資料丟進模型得到預測結果\n",
    "y_pred_1 = lasso_1.predict(x_test)\n",
    "y_pred_2 = lasso_2.predict(x_test)"
   ]
  },
  {
   "cell_type": "code",
   "execution_count": 35,
   "metadata": {},
   "outputs": [
    {
     "name": "stdout",
     "output_type": "stream",
     "text": [
      "Alpha set 1 coef_ = \n",
      "[ 0.          0.          0.          0.          0.         -0.\n",
      " -0.          0.         -0.          0.         -0.         -0.\n",
      " -0.00159714]\n",
      "Alpha set 0.5 coef_ = \n",
      "[ 0.          0.          0.          0.00301828  0.         -0.\n",
      " -0.          0.         -0.          0.06074464 -0.         -0.\n",
      " -0.00172235]\n"
     ]
    }
   ],
   "source": [
    "# 印出各特徵對應的係數，可以看到許多係數都變成 0，Lasso Regression 的確可以做特徵選取\n",
    "print(f'Alpha set 1 coef_ = \\n{lasso_1.coef_}')\n",
    "print(f'Alpha set 0.5 coef_ = \\n{lasso_2.coef_}')"
   ]
  },
  {
   "cell_type": "code",
   "execution_count": 40,
   "metadata": {},
   "outputs": [
    {
     "name": "stdout",
     "output_type": "stream",
     "text": [
      "Alpha set 1 intercept_ = \n",
      "2.0896224040021054\n",
      "Alpha set 0.5 intercept_ = \n",
      "1.8195565939758174\n"
     ]
    }
   ],
   "source": [
    "print(f'Alpha set 1 intercept_ = \\n{lasso_1.intercept_}')\n",
    "print(f'Alpha set 0.5 intercept_ = \\n{lasso_2.intercept_}')"
   ]
  },
  {
   "cell_type": "code",
   "execution_count": 37,
   "metadata": {},
   "outputs": [
    {
     "name": "stdout",
     "output_type": "stream",
     "text": [
      "Alpha set 1, Mean squared error: 0.42\n",
      "Alpha set 0.5, Mean squared error: 0.32\n"
     ]
    }
   ],
   "source": [
    "# 預測值與實際值的差距，使用 MSE\n",
    "print(\"Alpha set 1, Mean squared error: %.2f\"\n",
    "      % mean_squared_error(y_test, y_pred_1))\n",
    "print(\"Alpha set 0.5, Mean squared error: %.2f\"\n",
    "      % mean_squared_error(y_test, y_pred_2))"
   ]
  },
  {
   "cell_type": "markdown",
   "metadata": {},
   "source": [
    "### Ridge for wine"
   ]
  },
  {
   "cell_type": "code",
   "execution_count": 38,
   "metadata": {},
   "outputs": [],
   "source": [
    "# 建立一個線性回歸模型\n",
    "ridge_1 = linear_model.Ridge(alpha=1.0)\n",
    "ridge_2 = linear_model.Ridge(alpha=0.5)\n",
    "\n",
    "# 將訓練資料丟進去模型訓練\n",
    "ridge_1.fit(x_train, y_train)\n",
    "ridge_2.fit(x_train, y_train)\n",
    "\n",
    "# 將測試資料丟進模型得到預測結果\n",
    "y_pred_1 = ridge_1.predict(x_test)\n",
    "y_pred_2 = ridge_2.predict(x_test)"
   ]
  },
  {
   "cell_type": "code",
   "execution_count": 39,
   "metadata": {},
   "outputs": [
    {
     "name": "stdout",
     "output_type": "stream",
     "text": [
      "Alpha set 1 coef_ = \n",
      "[-0.1060308   0.01767173 -0.20185208  0.04519307  0.00041456  0.09901609\n",
      " -0.31237143 -0.1038379   0.03489971  0.07770768 -0.13450626 -0.27442063\n",
      " -0.00077001]\n",
      "Alpha set 0.5 coef_ = \n",
      "[-0.1073333   0.01712214 -0.21119203  0.04590509  0.00039135  0.11063007\n",
      " -0.31826171 -0.13486439  0.03590049  0.07673492 -0.14525493 -0.27955302\n",
      " -0.00076108]\n"
     ]
    }
   ],
   "source": [
    "# 印出各特徵對應的係數，可以看到許多係數都變成 0，Lasso Regression 的確可以做特徵選取\n",
    "print(f'Alpha set 1 coef_ = \\n{ridge_1.coef_}')\n",
    "print(f'Alpha set 0.5 coef_ = \\n{ridge_2.coef_}')"
   ]
  },
  {
   "cell_type": "code",
   "execution_count": 41,
   "metadata": {},
   "outputs": [
    {
     "name": "stdout",
     "output_type": "stream",
     "text": [
      "Alpha set 1 intercept_ = \n",
      "3.228259171152299\n",
      "Alpha set 0.5 intercept_ = \n",
      "3.2736839759020717\n"
     ]
    }
   ],
   "source": [
    "print(f'Alpha set 1 intercept_ = \\n{ridge_1.intercept_}')\n",
    "print(f'Alpha set 0.5 intercept_ = \\n{ridge_2.intercept_}')"
   ]
  },
  {
   "cell_type": "code",
   "execution_count": 42,
   "metadata": {},
   "outputs": [
    {
     "name": "stdout",
     "output_type": "stream",
     "text": [
      "Alpha set 1, Mean squared error: 0.07\n",
      "Alpha set 0.5, Mean squared error: 0.07\n"
     ]
    }
   ],
   "source": [
    "# 預測值與實際值的差距，使用 MSE\n",
    "print(\"Alpha set 1, Mean squared error: %.2f\"\n",
    "      % mean_squared_error(y_test, y_pred_1))\n",
    "print(\"Alpha set 0.5, Mean squared error: %.2f\"\n",
    "      % mean_squared_error(y_test, y_pred_2))"
   ]
  }
 ],
 "metadata": {
  "kernelspec": {
   "display_name": "Python 3",
   "language": "python",
   "name": "python3"
  },
  "language_info": {
   "codemirror_mode": {
    "name": "ipython",
    "version": 3
   },
   "file_extension": ".py",
   "mimetype": "text/x-python",
   "name": "python",
   "nbconvert_exporter": "python",
   "pygments_lexer": "ipython3",
   "version": "3.7.0"
  }
 },
 "nbformat": 4,
 "nbformat_minor": 2
}
