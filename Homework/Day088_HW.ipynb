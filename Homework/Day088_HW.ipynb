{
 "cells": [
  {
   "cell_type": "markdown",
   "metadata": {},
   "source": [
    "## Work\n",
    "1. 請嘗試寫一個 callback 用來記錄各類別在訓練過程中，對驗證集的 True Positive 與 True Negative"
   ]
  },
  {
   "cell_type": "code",
   "execution_count": 1,
   "metadata": {},
   "outputs": [
    {
     "name": "stderr",
     "output_type": "stream",
     "text": [
      "C:\\Users\\10709151\\AppData\\Local\\Continuum\\anaconda3\\lib\\site-packages\\h5py\\__init__.py:36: FutureWarning: Conversion of the second argument of issubdtype from `float` to `np.floating` is deprecated. In future, it will be treated as `np.float64 == np.dtype(float).type`.\n",
      "  from ._conv import register_converters as _register_converters\n",
      "Using TensorFlow backend.\n"
     ]
    }
   ],
   "source": [
    "import os\n",
    "import keras\n",
    "\n",
    "# Disable GPU\n",
    "os.environ[\"CUDA_VISIBLE_DEVICES\"] = \"0\""
   ]
  },
  {
   "cell_type": "code",
   "execution_count": 2,
   "metadata": {},
   "outputs": [],
   "source": [
    "train, test = keras.datasets.cifar10.load_data()"
   ]
  },
  {
   "cell_type": "code",
   "execution_count": 3,
   "metadata": {},
   "outputs": [],
   "source": [
    "## 資料前處理\n",
    "def preproc_x(x, flatten=True):\n",
    "    x = x / 255.\n",
    "    if flatten:\n",
    "        x = x.reshape((len(x), -1))\n",
    "    return x\n",
    "\n",
    "def preproc_y(y, num_classes=10):\n",
    "    if y.shape[-1] == 1:\n",
    "        y = keras.utils.to_categorical(y, num_classes)\n",
    "    return y    "
   ]
  },
  {
   "cell_type": "code",
   "execution_count": 4,
   "metadata": {},
   "outputs": [],
   "source": [
    "x_train, y_train = train\n",
    "x_test, y_test = test\n",
    "\n",
    "# Preproc the inputs\n",
    "x_train = preproc_x(x_train)\n",
    "x_test = preproc_x(x_test)\n",
    "\n",
    "# Preprc the outputs\n",
    "y_train = preproc_y(y_train)\n",
    "y_test = preproc_y(y_test)"
   ]
  },
  {
   "cell_type": "code",
   "execution_count": 5,
   "metadata": {},
   "outputs": [],
   "source": [
    "from keras.layers import BatchNormalization\n",
    "def build_mlp(input_shape, output_units=10, num_neurons=[256, 256, 256]):\n",
    "    \"\"\"Code Here\n",
    "    建立你的神經網路\n",
    "    \"\"\"\n",
    "    input_layer = keras.layers.Input(input_shape)\n",
    "    \n",
    "    for i, n_units in enumerate(num_neurons):\n",
    "        if i == 0:\n",
    "            x = keras.layers.Dense(units=n_units, \n",
    "                                   activation=\"relu\", \n",
    "                                   name=\"hidden_layer\"+str(i+1))(input_layer)\n",
    "            x = BatchNormalization()(x)\n",
    "        else:\n",
    "            x = keras.layers.Dense(units=n_units, \n",
    "                                   activation=\"relu\", \n",
    "                                   name=\"hidden_layer\"+str(i+1))(x)\n",
    "            x = BatchNormalization()(x)\n",
    "    \n",
    "    out = keras.layers.Dense(units=output_units, activation=\"softmax\", name=\"output\")(x)\n",
    "    \n",
    "    model = keras.models.Model(inputs=[input_layer], outputs=[out])\n",
    "    return model"
   ]
  },
  {
   "cell_type": "code",
   "execution_count": 6,
   "metadata": {},
   "outputs": [],
   "source": [
    "## 超參數設定\n",
    "LEARNING_RATE = 1e-3\n",
    "EPOCHS = 25\n",
    "BATCH_SIZE = 1024\n",
    "MOMENTUM = 0.95"
   ]
  },
  {
   "cell_type": "code",
   "execution_count": 7,
   "metadata": {},
   "outputs": [],
   "source": [
    "# 載入 Callbacks\n",
    "from keras.callbacks import Callback\n",
    "import numpy as np\n",
    "# Record_fp_tp\n",
    "class Record_tp_tn(Callback):\n",
    "    \"\"\"Code Here\n",
    "    撰寫一個紀錄 ture positive 與 true negative 數量的 callbacks    \n",
    "    \"\"\"\n",
    "    def on_train_begin(self, epoch, logs = {}):\n",
    "        logs = logs or {}\n",
    "        record_items = [\"val_auc\", \"true_positives\", \"true_negatives\", \"val_fp\", \"val_fn\", \"val_tp\", \"val_tn\"]\n",
    "        for i in record_items:\n",
    "            if i not in self.params['metrics']:\n",
    "                self.params['metrics'].append(i)\n",
    "    \n",
    "    def on_epoch_end(self, epoch, logs = {}, thres=0.5):\n",
    "        logs = logs or {}\n",
    "        y_true = self.validation_data[1].argmax(axis = 1)\n",
    "        y_pred = self.model.predict(self.validation_data[0])\n",
    "        y_pred = (y_pred[:, 1] >= thres) * 1\n",
    "        true_positives = np.sum(np.logical_and(y_pred == 1, y_true == 1)) #預測是1結果也是1\n",
    "        true_negatives = np.sum(np.logical_and(y_pred == 0, y_true == 0))\n",
    "        logs[\"true_positives\"] = true_positives\n",
    "        logs[\"true_negatives\"] = true_negatives\n",
    "               \n",
    "rec_tptn = Record_tp_tn()"
   ]
  },
  {
   "cell_type": "code",
   "execution_count": 9,
   "metadata": {
    "scrolled": true
   },
   "outputs": [
    {
     "name": "stdout",
     "output_type": "stream",
     "text": [
      "_________________________________________________________________\n",
      "Layer (type)                 Output Shape              Param #   \n",
      "=================================================================\n",
      "input_2 (InputLayer)         (None, 3072)              0         \n",
      "_________________________________________________________________\n",
      "hidden_layer1 (Dense)        (None, 256)               786688    \n",
      "_________________________________________________________________\n",
      "batch_normalization_4 (Batch (None, 256)               1024      \n",
      "_________________________________________________________________\n",
      "hidden_layer2 (Dense)        (None, 256)               65792     \n",
      "_________________________________________________________________\n",
      "batch_normalization_5 (Batch (None, 256)               1024      \n",
      "_________________________________________________________________\n",
      "hidden_layer3 (Dense)        (None, 256)               65792     \n",
      "_________________________________________________________________\n",
      "batch_normalization_6 (Batch (None, 256)               1024      \n",
      "_________________________________________________________________\n",
      "output (Dense)               (None, 10)                2570      \n",
      "=================================================================\n",
      "Total params: 923,914\n",
      "Trainable params: 922,378\n",
      "Non-trainable params: 1,536\n",
      "_________________________________________________________________\n",
      "Train on 50000 samples, validate on 10000 samples\n",
      "Epoch 1/25\n",
      "50000/50000 [==============================] - 4s 75us/step - loss: 2.2135 - acc: 0.2713 - val_loss: 2.3028 - val_acc: 0.2828\n",
      "Epoch 2/25\n",
      "50000/50000 [==============================] - 2s 34us/step - loss: 1.7580 - acc: 0.3876 - val_loss: 1.8737 - val_acc: 0.3710\n",
      "Epoch 3/25\n",
      "50000/50000 [==============================] - 2s 34us/step - loss: 1.6270 - acc: 0.4288 - val_loss: 1.7069 - val_acc: 0.4112\n",
      "Epoch 4/25\n",
      "50000/50000 [==============================] - 2s 34us/step - loss: 1.5520 - acc: 0.4534 - val_loss: 1.6265 - val_acc: 0.4288\n",
      "Epoch 5/25\n",
      "50000/50000 [==============================] - 2s 34us/step - loss: 1.4960 - acc: 0.4738 - val_loss: 1.6134 - val_acc: 0.4347\n",
      "Epoch 6/25\n",
      "50000/50000 [==============================] - 2s 34us/step - loss: 1.4520 - acc: 0.4899 - val_loss: 1.5573 - val_acc: 0.4497\n",
      "Epoch 7/25\n",
      "50000/50000 [==============================] - 2s 34us/step - loss: 1.4163 - acc: 0.5018 - val_loss: 1.5446 - val_acc: 0.4522\n",
      "Epoch 8/25\n",
      "50000/50000 [==============================] - 2s 34us/step - loss: 1.3822 - acc: 0.5147 - val_loss: 1.5281 - val_acc: 0.4625\n",
      "Epoch 9/25\n",
      "50000/50000 [==============================] - 2s 34us/step - loss: 1.3540 - acc: 0.5254 - val_loss: 1.5147 - val_acc: 0.4637\n",
      "Epoch 10/25\n",
      "50000/50000 [==============================] - 2s 34us/step - loss: 1.3278 - acc: 0.5357 - val_loss: 1.5076 - val_acc: 0.4705\n",
      "Epoch 11/25\n",
      "50000/50000 [==============================] - 2s 34us/step - loss: 1.3019 - acc: 0.5440 - val_loss: 1.4989 - val_acc: 0.4700\n",
      "Epoch 12/25\n",
      "50000/50000 [==============================] - 2s 34us/step - loss: 1.2806 - acc: 0.5545 - val_loss: 1.4857 - val_acc: 0.4754\n",
      "Epoch 13/25\n",
      "50000/50000 [==============================] - 2s 33us/step - loss: 1.2581 - acc: 0.5621 - val_loss: 1.4728 - val_acc: 0.4792\n",
      "Epoch 14/25\n",
      "50000/50000 [==============================] - 2s 33us/step - loss: 1.2361 - acc: 0.5701 - val_loss: 1.4652 - val_acc: 0.4819\n",
      "Epoch 15/25\n",
      "50000/50000 [==============================] - 2s 34us/step - loss: 1.2154 - acc: 0.5783 - val_loss: 1.4652 - val_acc: 0.4826\n",
      "Epoch 16/25\n",
      "50000/50000 [==============================] - 2s 34us/step - loss: 1.1957 - acc: 0.5858 - val_loss: 1.4582 - val_acc: 0.4844\n",
      "Epoch 17/25\n",
      "50000/50000 [==============================] - 2s 34us/step - loss: 1.1771 - acc: 0.5904 - val_loss: 1.4653 - val_acc: 0.4840\n",
      "Epoch 18/25\n",
      "50000/50000 [==============================] - 2s 33us/step - loss: 1.1579 - acc: 0.5990 - val_loss: 1.4487 - val_acc: 0.4879\n",
      "Epoch 19/25\n",
      "50000/50000 [==============================] - 2s 34us/step - loss: 1.1406 - acc: 0.6049 - val_loss: 1.4587 - val_acc: 0.4867\n",
      "Epoch 20/25\n",
      "50000/50000 [==============================] - 2s 34us/step - loss: 1.1225 - acc: 0.6115 - val_loss: 1.4607 - val_acc: 0.4868\n",
      "Epoch 21/25\n",
      "50000/50000 [==============================] - 2s 35us/step - loss: 1.1064 - acc: 0.6179 - val_loss: 1.4457 - val_acc: 0.4919\n",
      "Epoch 22/25\n",
      "50000/50000 [==============================] - 2s 35us/step - loss: 1.0892 - acc: 0.6248 - val_loss: 1.4477 - val_acc: 0.4929\n",
      "Epoch 23/25\n",
      "50000/50000 [==============================] - 2s 34us/step - loss: 1.0724 - acc: 0.6315 - val_loss: 1.4578 - val_acc: 0.4952\n",
      "Epoch 24/25\n",
      "50000/50000 [==============================] - 2s 34us/step - loss: 1.0528 - acc: 0.6388 - val_loss: 1.4702 - val_acc: 0.4841\n",
      "Epoch 25/25\n",
      "50000/50000 [==============================] - 2s 34us/step - loss: 1.0378 - acc: 0.6447 - val_loss: 1.4442 - val_acc: 0.4942\n"
     ]
    }
   ],
   "source": [
    "model = build_mlp(input_shape=x_train.shape[1:])\n",
    "model.summary()\n",
    "optimizer = keras.optimizers.SGD(lr=LEARNING_RATE, nesterov=True, momentum=MOMENTUM)\n",
    "model.compile(loss=\"categorical_crossentropy\", metrics=[\"accuracy\"], optimizer=optimizer)\n",
    "\n",
    "\"\"\"Code Here\n",
    "將 callbacks 放入模型訓練流程中\n",
    "\"\"\"\n",
    "model.fit(x_train, y_train, \n",
    "          epochs=EPOCHS, \n",
    "          batch_size=BATCH_SIZE, \n",
    "          validation_data=(x_test, y_test), \n",
    "          shuffle=True,\n",
    "          callbacks=[rec_tptn]\n",
    "         )\n",
    "\n",
    "# Collect results\n",
    "train_loss = model.history.history[\"loss\"]\n",
    "valid_loss = model.history.history[\"val_loss\"]\n",
    "train_acc = model.history.history[\"acc\"]\n",
    "valid_acc = model.history.history[\"val_acc\"]\n",
    "\n",
    "\"\"\"Code Here\n",
    "將 tp/tn 從訓練完的模型中取出\n",
    "\"\"\"\n",
    "valid_tp = model.history.history['true_positives']\n",
    "valid_tn = model.history.history['true_negatives']"
   ]
  },
  {
   "cell_type": "code",
   "execution_count": 10,
   "metadata": {},
   "outputs": [
    {
     "data": {
      "image/png": "[encoded data removed]",
      "text/plain": [
       "<Figure size 432x288 with 1 Axes>"
      ]
     },
     "metadata": {},
     "output_type": "display_data"
    },
    {
     "data": {
      "image/png": "[encoded data removed]",
      "text/plain": [
       "<Figure size 432x288 with 1 Axes>"
      ]
     },
     "metadata": {},
     "output_type": "display_data"
    },
    {
     "data": {
      "image/png": "[encoded data removed]",
      "text/plain": [
       "<Figure size 432x288 with 1 Axes>"
      ]
     },
     "metadata": {},
     "output_type": "display_data"
    }
   ],
   "source": [
    "import matplotlib.pyplot as plt\n",
    "%matplotlib inline\n",
    "\n",
    "plt.plot(range(len(train_loss)), train_loss, label=\"train loss\")\n",
    "plt.plot(range(len(valid_loss)), valid_loss, label=\"valid loss\")\n",
    "plt.legend()\n",
    "plt.title(\"Loss\")\n",
    "plt.show()\n",
    "\n",
    "plt.plot(range(len(train_acc)), train_acc, label=\"train accuracy\")\n",
    "plt.plot(range(len(valid_acc)), valid_acc, label=\"valid accuracy\")\n",
    "plt.legend()\n",
    "plt.title(\"Accuracy\")\n",
    "plt.show()\n",
    "\n",
    "plt.plot(range(len(valid_tp)), valid_tp, label=\"valid tp\", color=\"navy\")\n",
    "plt.plot(range(len(valid_tn)), valid_tn, label=\"valid tn\", color=\"red\")\n",
    "plt.legend()\n",
    "plt.title(\"True positives and True Negatives\")\n",
    "plt.show()\n"
   ]
  }
 ],
 "metadata": {
  "kernelspec": {
   "display_name": "Python 3",
   "language": "python",
   "name": "python3"
  },
  "language_info": {
   "codemirror_mode": {
    "name": "ipython",
    "version": 3
   },
   "file_extension": ".py",
   "mimetype": "text/x-python",
   "name": "python",
   "nbconvert_exporter": "python",
   "pygments_lexer": "ipython3",
   "version": "3.6.5"
  }
 },
 "nbformat": 4,
 "nbformat_minor": 2
}
